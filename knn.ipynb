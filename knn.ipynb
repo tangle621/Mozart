{
 "metadata": {
  "language_info": {
   "codemirror_mode": {
    "name": "ipython",
    "version": 3
   },
   "file_extension": ".py",
   "mimetype": "text/x-python",
   "name": "python",
   "nbconvert_exporter": "python",
   "pygments_lexer": "ipython3",
   "version": "3.7.9-final"
  },
  "orig_nbformat": 2,
  "kernelspec": {
   "name": "python3",
   "display_name": "Python 3",
   "language": "python"
  }
 },
 "nbformat": 4,
 "nbformat_minor": 2,
 "cells": [
  {
   "cell_type": "code",
   "execution_count": 1,
   "metadata": {},
   "outputs": [],
   "source": [
    "import os\n",
    "import cv2\n",
    "import random\n",
    "import imutils\n",
    "import argparse \n",
    "from glob import  glob\n",
    "from sklearn.model_selection import train_test_split\n",
    "from sklearn.neighbors import KNeighborsClassifier\n",
    "from sklearn.neural_network import MLPClassifier  \n",
    "from sklearn import svm\n",
    "import numpy as np"
   ]
  },
  {
   "cell_type": "code",
   "execution_count": 2,
   "metadata": {},
   "outputs": [
    {
     "output_type": "stream",
     "name": "stdout",
     "text": [
      "['t44_hw', '8b_n', 't4', 't2', '1', 'chord', '#', 'b_hw', 't24_hw', '32', 'dot', '8_hw', '#_hw', '2', '8', '2_hw', '4_hw', 'b', 'cross', '4', 'dot_hw', '32b_r', 't24', '16b_n', 'o', '1_hw', '16_hw', '16', '16b_r', 't44', 'clef', '8b_r', '32b_n', 'o_hw']\n"
     ]
    }
   ],
   "source": [
    "dataset_path = 'train_data/data'\n",
    "dir_names = [path.split('/')[2] for path in glob(f'{dataset_path}/*')]\n",
    "target_img_size = (100, 100)\n",
    "sample_count = 250\n",
    "print(dir_names)\n",
    "\n",
    "# random_seed = 42  \n",
    "# random.seed(random_seed)\n",
    "# np.random.seed(random_seed)"
   ]
  },
  {
   "cell_type": "code",
   "execution_count": 3,
   "metadata": {},
   "outputs": [],
   "source": [
    "def extract_raw_pixels(img):\n",
    "    resized = cv2.resize(img, target_img_size)\n",
    "    return resized.flatten()"
   ]
  },
  {
   "cell_type": "code",
   "execution_count": 4,
   "metadata": {},
   "outputs": [],
   "source": [
    "def extract_hsv_histogram(img):\n",
    "    resized = cv2.resize(img, target_img_size)\n",
    "    hsv = cv2.cvtColor(resized, cv2.COLOR_BGR2HSV)\n",
    "    hist = cv2.calcHist([hsv], [0, 1, 2], None, [8, 8, 8], [0, 180, 0, 256, 0, 256])\n",
    "    if imutils.is_cv2():\n",
    "        hist = cv2.normalize(hist)\n",
    "    else:\n",
    "        cv2.normalize(hist, hist)\n",
    "    return hist.flatten()    "
   ]
  },
  {
   "cell_type": "code",
   "execution_count": 5,
   "metadata": {},
   "outputs": [],
   "source": [
    "def extract_hog_features(img):\n",
    "    img = cv2.resize(img, target_img_size)\n",
    "    win_size = (100, 100)\n",
    "    cell_size = (4, 4)\n",
    "    block_size_in_cells = (2, 2)\n",
    "    \n",
    "    block_size = (block_size_in_cells[1] * cell_size[1], block_size_in_cells[0] * cell_size[0])\n",
    "    block_stride = (cell_size[1], cell_size[0])\n",
    "    nbins = 9  # Number of orientation bins\n",
    "    hog = cv2.HOGDescriptor(win_size, block_size, block_stride, cell_size, nbins)\n",
    "    h = hog.compute(img)\n",
    "    h = h.flatten()\n",
    "    return h.flatten()"
   ]
  },
  {
   "cell_type": "code",
   "execution_count": 6,
   "metadata": {},
   "outputs": [],
   "source": [
    "def extract_features(img, feature_set='raw'):\n",
    "    if feature_set == 'hog':\n",
    "        return extract_hog_features(img)\n",
    "    elif feature_set == 'raw':\n",
    "        return extract_raw_pixels(img)\n",
    "    else:\n",
    "        return extract_hsv_histogram(img)"
   ]
  },
  {
   "cell_type": "code",
   "execution_count": 7,
   "metadata": {},
   "outputs": [],
   "source": [
    "def load_dataset(feature_set='raw'):\n",
    "    features = []\n",
    "    labels = []\n",
    "    for dir_name in dir_names:\n",
    "        imgs = glob(f'{dataset_path}/{dir_name}/*.png')\n",
    "        subset = random.sample([i for i in range(len(imgs))], sample_count)\n",
    "        for i in subset:\n",
    "            img = cv2.imread(imgs[i])\n",
    "            labels.append(dir_name)\n",
    "            features.append(extract_features(img, feature_set))\n",
    "        \n",
    "    return features, labels  "
   ]
  },
  {
   "cell_type": "code",
   "execution_count": 8,
   "metadata": {},
   "outputs": [],
   "source": [
    "random_seed = 42  \n",
    "random.seed(random_seed)\n",
    "np.random.seed(random_seed)\n",
    "\n",
    "classifiers = {\n",
    "    'SVM': svm.LinearSVC(random_state=random_seed),\n",
    "    'KNN': KNeighborsClassifier(n_neighbors=7),\n",
    "    'NN': MLPClassifier(solver='sgd', random_state=random_seed, hidden_layer_sizes=(500,), max_iter=20, verbose=1)\n",
    "}"
   ]
  },
  {
   "cell_type": "code",
   "execution_count": 9,
   "metadata": {},
   "outputs": [],
   "source": [
    "def run_experiment(classifier='SVM', feature_set='raw'):\n",
    "    print('Loading dataset. This will take time ...')\n",
    "    features, labels = load_dataset(feature_set)\n",
    "    print('Finished loading dataset.')\n",
    "    \n",
    "    train_features, test_features, train_labels, test_labels = train_test_split(features, labels, test_size=0.2, random_state=random_seed)\n",
    "    print('############## Training', model_name, \"##############\")\n",
    "    model.fit(train_features, train_labels)\n",
    "    accuracy = model.score(test_features, test_labels)\n",
    "    print(model_name, 'accuracy:', accuracy*100, '%')"
   ]
  },
  {
   "cell_type": "code",
   "execution_count": 10,
   "metadata": {},
   "outputs": [
    {
     "output_type": "stream",
     "name": "stdout",
     "text": [
      "Loading dataset. This will take time ...\n",
      "Finished loading dataset.\n",
      "############## Training SVM ##############\n",
      "SVM accuracy: 91.52941176470588 %\n",
      "############## Training KNN ##############\n",
      "KNN accuracy: 72.88235294117648 %\n",
      "############## Training NN ##############\n",
      "Iteration 1, loss = 3.38381920\n",
      "Iteration 2, loss = 2.94255237\n",
      "Iteration 3, loss = 2.53904648\n",
      "Iteration 4, loss = 2.21735929\n",
      "Iteration 5, loss = 1.95802995\n",
      "Iteration 6, loss = 1.74093055\n",
      "Iteration 7, loss = 1.56065673\n",
      "Iteration 8, loss = 1.40801272\n",
      "Iteration 9, loss = 1.28045021\n",
      "Iteration 10, loss = 1.17315606\n",
      "Iteration 11, loss = 1.08231356\n",
      "Iteration 12, loss = 1.00481915\n",
      "Iteration 13, loss = 0.93811483\n",
      "Iteration 14, loss = 0.87996494\n",
      "Iteration 15, loss = 0.82880189\n",
      "Iteration 16, loss = 0.78413450\n",
      "Iteration 17, loss = 0.74398625\n",
      "Iteration 18, loss = 0.70798426\n",
      "Iteration 19, loss = 0.67540290\n",
      "Iteration 20, loss = 0.64618737\n",
      "NN accuracy: 85.41176470588235 %\n"
     ]
    }
   ],
   "source": [
    "run_experiment('hog') \n",
    "'''\n",
    "SVM accuracy: 91.52941176470588 %\n",
    "KNN accuracy: 72.88235294117648 %\n",
    "NN accuracy: 85.41176470588235 %\n",
    "'''"
   ]
  },
  {
   "cell_type": "code",
   "execution_count": 11,
   "metadata": {},
   "outputs": [
    {
     "output_type": "stream",
     "name": "stdout",
     "text": [
      "Loading dataset. This will take time ...\n",
      "Finished loading dataset.\n",
      "############## Training SVM ##############\n",
      "SVM accuracy: 29.117647058823533 %\n",
      "############## Training KNN ##############\n",
      "KNN accuracy: 56.99999999999999 %\n",
      "############## Training NN ##############\n",
      "Iteration 1, loss = 3.52997348\n",
      "Iteration 2, loss = 3.52867534\n",
      "Iteration 3, loss = 3.52741392\n",
      "Iteration 4, loss = 3.52622840\n",
      "Iteration 5, loss = 3.52506466\n",
      "Iteration 6, loss = 3.52391650\n",
      "Iteration 7, loss = 3.52277766\n",
      "Iteration 8, loss = 3.52168631\n",
      "Iteration 9, loss = 3.52060229\n",
      "Iteration 10, loss = 3.51957432\n",
      "Iteration 11, loss = 3.51859618\n",
      "Iteration 12, loss = 3.51766670\n",
      "Iteration 13, loss = 3.51675189\n",
      "Iteration 14, loss = 3.51585698\n",
      "Iteration 15, loss = 3.51497376\n",
      "Iteration 16, loss = 3.51412851\n",
      "Iteration 17, loss = 3.51329208\n",
      "Iteration 18, loss = 3.51247892\n",
      "Iteration 19, loss = 3.51164852\n",
      "Iteration 20, loss = 3.51081795\n",
      "NN accuracy: 7.588235294117647 %\n"
     ]
    }
   ],
   "source": [
    "# run_experiment('hsv')\n",
    "'''\n",
    "SVM accuracy: 29.117647058823533 %\n",
    "KNN accuracy: 56.99999999999999 %\n",
    "NN accuracy: 7.588235294117647 %\n",
    "'''"
   ]
  },
  {
   "cell_type": "code",
   "execution_count": 12,
   "metadata": {},
   "outputs": [
    {
     "output_type": "stream",
     "name": "stdout",
     "text": [
      "Loading dataset. This will take time ...\n",
      "Finished loading dataset.\n",
      "############## Training SVM ##############\n",
      "SVM accuracy: 80.47058823529412 %\n",
      "############## Training KNN ##############\n",
      "KNN accuracy: 83.70588235294117 %\n",
      "############## Training NN ##############\n",
      "Iteration 1, loss = 14.04484661\n",
      "Iteration 2, loss = 5.55339056\n",
      "Iteration 3, loss = 5.40788561\n",
      "Iteration 4, loss = 5.36259367\n",
      "Iteration 5, loss = 5.34016909\n",
      "Iteration 6, loss = 5.32644265\n",
      "Iteration 7, loss = 5.29075743\n",
      "Iteration 8, loss = 5.29009413\n",
      "Iteration 9, loss = 5.26948073\n",
      "Iteration 10, loss = 5.26022836\n",
      "Iteration 11, loss = 5.23375247\n",
      "Iteration 12, loss = 5.24763582\n",
      "Iteration 13, loss = 5.24200007\n",
      "Iteration 14, loss = 5.23015958\n",
      "Iteration 15, loss = 5.20496847\n",
      "Iteration 16, loss = 5.18339049\n",
      "Iteration 17, loss = 5.20256871\n",
      "Iteration 18, loss = 5.18678817\n",
      "Iteration 19, loss = 5.19488985\n",
      "Iteration 20, loss = 5.18156751\n",
      "NN accuracy: 9.294117647058824 %\n"
     ]
    }
   ],
   "source": [
    "# run_experiment('raw')\n",
    "'''\n",
    "SVM accuracy: 80.47058823529412 %\n",
    "KNN accuracy: 83.70588235294117 %\n",
    "NN accuracy: 9.294117647058824 %\n",
    "'''"
   ]
  }
 ]
}