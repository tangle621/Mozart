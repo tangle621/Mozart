{
 "metadata": {
  "language_info": {
   "codemirror_mode": {
    "name": "ipython",
    "version": 3
   },
   "file_extension": ".py",
   "mimetype": "text/x-python",
   "name": "python",
   "nbconvert_exporter": "python",
   "pygments_lexer": "ipython3",
   "version": "3.7.9-final"
  },
  "orig_nbformat": 2,
  "kernelspec": {
   "name": "dev",
   "display_name": "Dev",
   "language": "python"
  }
 },
 "nbformat": 4,
 "nbformat_minor": 2,
 "cells": [
  {
   "cell_type": "code",
   "execution_count": 23,
   "metadata": {},
   "outputs": [],
   "source": [
    "import os\n",
    "import cv2\n",
    "import random\n",
    "import imutils\n",
    "import argparse \n",
    "from glob import  glob\n",
    "from sklearn.model_selection import train_test_split\n",
    "from sklearn.neighbors import KNeighborsClassifier\n",
    "from sklearn.neural_network import MLPClassifier  \n",
    "from sklearn import svm\n",
    "import numpy as np\n",
    "import matplotlib.pyplot as plt\n",
    "import pickle \n",
    "import math"
   ]
  },
  {
   "cell_type": "code",
   "execution_count": 41,
   "metadata": {},
   "outputs": [
    {
     "output_type": "stream",
     "name": "stdout",
     "text": [
      "360 52939\n"
     ]
    }
   ],
   "source": [
    "dirs = glob('train_data/data/*')\n",
    "min_len = 100000\n",
    "tot = 0\n",
    "for dirn in dirs:\n",
    "    imgs = glob(f'{dirn}/*.png')\n",
    "    tot += len(imgs)\n",
    "    min_len = min(min_len, len(imgs))\n",
    "print(min_len)"
   ]
  },
  {
   "cell_type": "code",
   "execution_count": 25,
   "metadata": {},
   "outputs": [
    {
     "output_type": "stream",
     "name": "stdout",
     "text": [
      "['a_1', '16_b_r', 't4', 't2', '1', 'chord', '#', 'dot', 'flat_b', 'dot_b', 't24_b', 'a_4', '2', '8_b_r', '8', 'bar_b', '#_b', 'a_16', '16_b_n', 'a_2', 'natural', '32_b_r', 'flat', 'bar', 'clef_b', 'cross', 'natural_b', '4', '32_b_n', 't24', '8_b_n', '16', 't44', 'a_32', 'clef', 'a_8', 'p', 't44_b']\n"
     ]
    }
   ],
   "source": [
    "dataset_path = 'train_data/data'\n",
    "dir_names = [path.split('/')[2] for path in glob(f'{dataset_path}/*')]\n",
    "target_img_size = (100, 100)\n",
    "sample_count = 350\n",
    "print(dir_names)"
   ]
  },
  {
   "cell_type": "code",
   "execution_count": 26,
   "metadata": {},
   "outputs": [],
   "source": [
    "def extract_raw_pixels(img):\n",
    "    resized = cv2.resize(img, target_img_size)\n",
    "    return resized.flatten()"
   ]
  },
  {
   "cell_type": "code",
   "execution_count": 27,
   "metadata": {},
   "outputs": [],
   "source": [
    "def extract_hsv_histogram(img):\n",
    "    resized = cv2.resize(img, target_img_size)\n",
    "    hsv = cv2.cvtColor(resized, cv2.COLOR_BGR2HSV)\n",
    "    hist = cv2.calcHist([hsv], [0, 1, 2], None, [8, 8, 8], [0, 180, 0, 256, 0, 256])\n",
    "    if imutils.is_cv2():\n",
    "        hist = cv2.normalize(hist)\n",
    "    else:\n",
    "        cv2.normalize(hist, hist)\n",
    "    return hist.flatten()    "
   ]
  },
  {
   "cell_type": "code",
   "execution_count": 28,
   "metadata": {},
   "outputs": [],
   "source": [
    "def extract_hog_features(img):\n",
    "    img = cv2.resize(img, target_img_size)\n",
    "    win_size = (100, 100)\n",
    "    cell_size = (4, 4)\n",
    "    block_size_in_cells = (2, 2)\n",
    "    \n",
    "    block_size = (block_size_in_cells[1] * cell_size[1], block_size_in_cells[0] * cell_size[0])\n",
    "    block_stride = (cell_size[1], cell_size[0])\n",
    "    nbins = 9  # Number of orientation bins\n",
    "    hog = cv2.HOGDescriptor(win_size, block_size, block_stride, cell_size, nbins)\n",
    "    h = hog.compute(img)\n",
    "    h = h.flatten()\n",
    "    return h.flatten()"
   ]
  },
  {
   "cell_type": "code",
   "execution_count": 29,
   "metadata": {},
   "outputs": [],
   "source": [
    "def extract_features(img, feature_set='raw'):\n",
    "    if feature_set == 'hog':\n",
    "        return extract_hog_features(img)\n",
    "    elif feature_set == 'raw':\n",
    "        return extract_raw_pixels(img)\n",
    "    else:\n",
    "        return extract_hsv_histogram(img)"
   ]
  },
  {
   "cell_type": "code",
   "execution_count": 30,
   "metadata": {},
   "outputs": [],
   "source": [
    "def load_dataset(feature_set='raw'):\n",
    "    features = []\n",
    "    labels = []\n",
    "    for dir_name in dir_names:\n",
    "        print(dir_name)\n",
    "        imgs = glob(f'{dataset_path}/{dir_name}/*.png')\n",
    "        subset = random.sample([i for i in range(len(imgs))], sample_count)\n",
    "        for i in subset:\n",
    "            img = cv2.imread(imgs[i])\n",
    "            labels.append(dir_name)\n",
    "            features.append(extract_features(img, feature_set))\n",
    "        \n",
    "    return features, labels  "
   ]
  },
  {
   "cell_type": "code",
   "execution_count": 31,
   "metadata": {},
   "outputs": [],
   "source": [
    "random_seed = 42  \n",
    "random.seed(random_seed)\n",
    "np.random.seed(random_seed)\n",
    "\n",
    "classifiers = {\n",
    "    'SVM': svm.LinearSVC(random_state=random_seed),\n",
    "    'KNN': KNeighborsClassifier(n_neighbors=7),\n",
    "    'NN': MLPClassifier(solver='sgd', random_state=random_seed, hidden_layer_sizes=(500,), max_iter=20, verbose=1)\n",
    "}"
   ]
  },
  {
   "cell_type": "code",
   "execution_count": 32,
   "metadata": {},
   "outputs": [],
   "source": [
    "def run_experiment(classifier='SVM', feature_set='hog'):\n",
    "    print('Loading dataset. This will take time ...')\n",
    "    features, labels = load_dataset(feature_set)\n",
    "    print('Finished loading dataset.')\n",
    "    \n",
    "    train_features, test_features, train_labels, test_labels = train_test_split(features, labels, test_size=0.2, random_state=random_seed)\n",
    "    \n",
    "    model = classifiers[classifier]\n",
    "    print('############## Training', classifier, \"##############\")\n",
    "    model.fit(train_features, train_labels)\n",
    "    accuracy = model.score(test_features, test_labels)\n",
    "    print(classifier, 'accuracy:', accuracy*100, '%')\n",
    "\n",
    "    return model, accuracy"
   ]
  },
  {
   "cell_type": "code",
   "execution_count": 33,
   "metadata": {},
   "outputs": [
    {
     "output_type": "stream",
     "name": "stdout",
     "text": [
      "Loading dataset. This will take time ...\n",
      "a_1\n",
      "16_b_r\n",
      "t4\n",
      "t2\n",
      "1\n",
      "chord\n",
      "#\n",
      "dot\n",
      "flat_b\n",
      "dot_b\n",
      "t24_b\n",
      "a_4\n",
      "2\n",
      "8_b_r\n",
      "8\n",
      "bar_b\n",
      "#_b\n",
      "a_16\n",
      "16_b_n\n",
      "a_2\n",
      "natural\n",
      "32_b_r\n",
      "flat\n",
      "bar\n",
      "clef_b\n",
      "cross\n",
      "natural_b\n",
      "4\n",
      "32_b_n\n",
      "t24\n",
      "8_b_n\n",
      "16\n",
      "t44\n",
      "a_32\n",
      "clef\n",
      "a_8\n",
      "p\n",
      "t44_b\n",
      "Finished loading dataset.\n",
      "############## Training SVM ##############\n",
      "SVM accuracy: 94.88721804511279 %\n"
     ]
    },
    {
     "output_type": "execute_result",
     "data": {
      "text/plain": [
       "'\\nSVM accuracy: 91.52941176470588 %\\nKNN accuracy: 72.88235294117648 %\\nNN accuracy: 85.41176470588235 %\\n'"
      ]
     },
     "metadata": {},
     "execution_count": 33
    }
   ],
   "source": [
    "model, accuracy = run_experiment('SVM', 'hog') \n",
    "'''\n",
    "SVM accuracy: 91.52941176470588 %\n",
    "KNN accuracy: 72.88235294117648 %\n",
    "NN accuracy: 85.41176470588235 %\n",
    "'''"
   ]
  },
  {
   "cell_type": "code",
   "execution_count": 34,
   "metadata": {},
   "outputs": [],
   "source": [
    "\n",
    "filename = f'trained_models/svm_trained_model_hog_{accuracy}.sav'\n",
    "pickle.dump(model, open(filename, 'wb'))"
   ]
  },
  {
   "cell_type": "code",
   "execution_count": 40,
   "metadata": {},
   "outputs": [
    {
     "output_type": "stream",
     "name": "stdout",
     "text": [
      "0\n"
     ]
    }
   ],
   "source": [
    "# loaded_model = pickle.load(open(filename, 'rb'))"
   ]
  },
  {
   "cell_type": "code",
   "execution_count": 36,
   "metadata": {},
   "outputs": [],
   "source": [
    "def show_images(images, titles=None):\n",
    "    n_ims = len(images)\n",
    "    if titles is None:\n",
    "        titles = ['(%d)' % i for i in range(1, n_ims + 1)]\n",
    "    fig = plt.figure()\n",
    "    n = 1\n",
    "    for image, title in zip(images, titles):\n",
    "        a = fig.add_subplot(1, n_ims, n)\n",
    "        if image.ndim == 2:\n",
    "            plt.gray()\n",
    "        plt.imshow(image)\n",
    "        a.set_title(title)\n",
    "        plt.axis('off')\n",
    "        n += 1\n",
    "    fig.set_size_inches(np.array(fig.get_size_inches()) * n_ims)\n",
    "    plt.show()"
   ]
  },
  {
   "cell_type": "code",
   "execution_count": 37,
   "metadata": {},
   "outputs": [],
   "source": [
    "# test_imgs = glob('testresult/*.png')\n",
    "# for img in test_imgs:\n",
    "#     img = cv2.imread(img)\n",
    "#     features = extract_features(img, 'raw')\n",
    "#     labels = model.predict([features])\n",
    "#     show_images([img], labels)"
   ]
  },
  {
   "cell_type": "code",
   "execution_count": 38,
   "metadata": {},
   "outputs": [
    {
     "output_type": "execute_result",
     "data": {
      "text/plain": [
       "'\\nSVM accuracy: 29.117647058823533 %\\nKNN accuracy: 56.99999999999999 %\\nNN accuracy: 7.588235294117647 %\\n'"
      ]
     },
     "metadata": {},
     "execution_count": 38
    }
   ],
   "source": [
    "# run_experiment('hsv')\n",
    "'''\n",
    "SVM accuracy: 29.117647058823533 %\n",
    "KNN accuracy: 56.99999999999999 %\n",
    "NN accuracy: 7.588235294117647 %\n",
    "'''"
   ]
  },
  {
   "cell_type": "code",
   "execution_count": 39,
   "metadata": {},
   "outputs": [
    {
     "output_type": "execute_result",
     "data": {
      "text/plain": [
       "'\\nSVM accuracy: 80.47058823529412 %\\nKNN accuracy: 83.70588235294117 %\\nNN accuracy: 9.294117647058824 %\\n'"
      ]
     },
     "metadata": {},
     "execution_count": 39
    }
   ],
   "source": [
    "# run_experiment('raw')\n",
    "'''\n",
    "SVM accuracy: 80.47058823529412 %\n",
    "KNN accuracy: 83.70588235294117 %\n",
    "NN accuracy: 9.294117647058824 %\n",
    "'''"
   ]
  }
 ]
}