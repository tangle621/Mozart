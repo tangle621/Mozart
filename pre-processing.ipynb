{
 "cells": [
  {
   "cell_type": "code",
   "execution_count": 55,
   "metadata": {},
   "outputs": [
    {
     "output_type": "stream",
     "name": "stdout",
     "text": [
      "66.36871508379888\n",
      "1\n",
      "0\n",
      "1\n",
      "3\n",
      "0.9921670976668286\n"
     ]
    },
    {
     "output_type": "display_data",
     "data": {
      "text/plain": "<Figure size 432x288 with 1 Axes>",
      "image/svg+xml": "<?xml version=\"1.0\" encoding=\"utf-8\" standalone=\"no\"?>\r\n<!DOCTYPE svg PUBLIC \"-//W3C//DTD SVG 1.1//EN\"\r\n  \"http://www.w3.org/Graphics/SVG/1.1/DTD/svg11.dtd\">\r\n<!-- Created with matplotlib (https://matplotlib.org/) -->\r\n<svg height=\"246.958125pt\" version=\"1.1\" viewBox=\"0 0 207.508559 246.958125\" width=\"207.508559pt\" xmlns=\"http://www.w3.org/2000/svg\" xmlns:xlink=\"http://www.w3.org/1999/xlink\">\r\n <defs>\r\n  <style type=\"text/css\">\r\n*{stroke-linecap:butt;stroke-linejoin:round;}\r\n  </style>\r\n </defs>\r\n <g id=\"figure_1\">\r\n  <g id=\"patch_1\">\r\n   <path d=\"M -0 246.958125 \r\nL 207.508559 246.958125 \r\nL 207.508559 0 \r\nL -0 0 \r\nz\r\n\" style=\"fill:none;\"/>\r\n  </g>\r\n  <g id=\"axes_1\">\r\n   <g clip-path=\"url(#pbcd92e4473)\">\r\n    <image height=\"218\" id=\"image7c297151de\" transform=\"scale(1 -1)translate(0 -218)\" width=\"194\" x=\"7.2\" xlink:href=\"data:image/png;base64,\r\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\" y=\"-21.758125\"/>\r\n   </g>\r\n   <g id=\"text_1\">\r\n    <!-- (1) -->\r\n    <defs>\r\n     <path d=\"M 31 75.875 \r\nQ 24.46875 64.65625 21.28125 53.65625 \r\nQ 18.109375 42.671875 18.109375 31.390625 \r\nQ 18.109375 20.125 21.3125 9.0625 \r\nQ 24.515625 -2 31 -13.1875 \r\nL 23.1875 -13.1875 \r\nQ 15.875 -1.703125 12.234375 9.375 \r\nQ 8.59375 20.453125 8.59375 31.390625 \r\nQ 8.59375 42.28125 12.203125 53.3125 \r\nQ 15.828125 64.359375 23.1875 75.875 \r\nz\r\n\" id=\"DejaVuSans-40\"/>\r\n     <path d=\"M 12.40625 8.296875 \r\nL 28.515625 8.296875 \r\nL 28.515625 63.921875 \r\nL 10.984375 60.40625 \r\nL 10.984375 69.390625 \r\nL 28.421875 72.90625 \r\nL 38.28125 72.90625 \r\nL 38.28125 8.296875 \r\nL 54.390625 8.296875 \r\nL 54.390625 0 \r\nL 12.40625 0 \r\nz\r\n\" id=\"DejaVuSans-49\"/>\r\n     <path d=\"M 8.015625 75.875 \r\nL 15.828125 75.875 \r\nQ 23.140625 64.359375 26.78125 53.3125 \r\nQ 30.421875 42.28125 30.421875 31.390625 \r\nQ 30.421875 20.453125 26.78125 9.375 \r\nQ 23.140625 -1.703125 15.828125 -13.1875 \r\nL 8.015625 -13.1875 \r\nQ 14.5 -2 17.703125 9.0625 \r\nQ 20.90625 20.125 20.90625 31.390625 \r\nQ 20.90625 42.671875 17.703125 53.65625 \r\nQ 14.5 64.65625 8.015625 75.875 \r\nz\r\n\" id=\"DejaVuSans-41\"/>\r\n    </defs>\r\n    <g transform=\"translate(95.254904 16.318125)scale(0.12 -0.12)\">\r\n     <use xlink:href=\"#DejaVuSans-40\"/>\r\n     <use x=\"39.013672\" xlink:href=\"#DejaVuSans-49\"/>\r\n     <use x=\"102.636719\" xlink:href=\"#DejaVuSans-41\"/>\r\n    </g>\r\n   </g>\r\n  </g>\r\n </g>\r\n <defs>\r\n  <clipPath id=\"pbcd92e4473\">\r\n   <rect height=\"217.44\" width=\"193.108559\" x=\"7.2\" y=\"22.318125\"/>\r\n  </clipPath>\r\n </defs>\r\n</svg>\r\n",
      "image/png": "[encoded data removed]"
     },
     "metadata": {
      "needs_background": "light"
     }
    }
   ],
   "source": [
    "from pre_processing import *\n",
    "from commonfunctions import *\n",
    "from skimage.transform import rescale, resize, downscale_local_mean\n",
    "from skimage.exposure import histogram\n",
    "import cv2\n",
    "img = io.imread(\"testcases/test-set-camera-captured/test-cases/27.jpg\")\n",
    "img = get_gray(img)\n",
    "img = get_thresholded(img, threshold_otsu(img))\n",
    "theta = deskew(img)\n",
    "print(theta)\n",
    "img = rotate(img,theta,resize = True,mode = 'edge')\n",
    "img = get_gray(img)\n",
    "img = get_thresholded(img, threshold_otsu(img))\n",
    "new_img = np.copy(img)\n",
    "print(np.max(new_img))\n",
    "for x in range(4):\n",
    "    no = 0\n",
    "    for col in range(x*img.shape[0]//4,(x+1)*img.shape[0]//4):\n",
    "        for row in range(img.shape[1]):\n",
    "            if  img[col][row] == 0:\n",
    "                no +=1\n",
    "    if no < 0.01*img.shape[1]*img.shape[0]//4:\n",
    "        print(x)\n",
    "        new_img[x*img.shape[0]//4:x*img.shape[0]//4+10,:]=0\n",
    "print(np.average(new_img))\n",
    "show_images([new_img])\n"
   ]
  },
  {
   "cell_type": "code",
   "execution_count": null,
   "metadata": {},
   "outputs": [],
   "source": []
  },
  {
   "cell_type": "code",
   "execution_count": 28,
   "metadata": {},
   "outputs": [],
   "source": []
  }
 ],
 "metadata": {
  "kernelspec": {
   "display_name": "Python 3",
   "language": "python",
   "name": "python3"
  },
  "language_info": {
   "codemirror_mode": {
    "name": "ipython",
    "version": 3
   },
   "file_extension": ".py",
   "mimetype": "text/x-python",
   "name": "python",
   "nbconvert_exporter": "python",
   "pygments_lexer": "ipython3",
   "version": "3.8.3-final"
  }
 },
 "nbformat": 4,
 "nbformat_minor": 4
}