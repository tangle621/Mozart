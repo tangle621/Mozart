{
 "metadata": {
  "language_info": {
   "codemirror_mode": {
    "name": "ipython",
    "version": 3
   },
   "file_extension": ".py",
   "mimetype": "text/x-python",
   "name": "python",
   "nbconvert_exporter": "python",
   "pygments_lexer": "ipython3",
   "version": "3.7.9-final"
  },
  "orig_nbformat": 2,
  "kernelspec": {
   "name": "dev",
   "display_name": "Dev",
   "language": "python"
  }
 },
 "nbformat": 4,
 "nbformat_minor": 2,
 "cells": [
  {
   "cell_type": "code",
   "execution_count": null,
   "metadata": {},
   "outputs": [],
   "source": [
    "from commonfunctions import *\n",
    "from staff import calculate_thickness_spacing, remove_staff_lines, coordinator\n",
    "from segmenter import Segmenter\n",
    "from connected_componentes import  *\n",
    "from fit import match, remove_repeated_matches\n",
    "from symbol import Note\n",
    "from box import Box\n",
    "import glob\n",
    "import cv2\n",
    "import pickle"
   ]
  },
  {
   "cell_type": "code",
   "execution_count": null,
   "metadata": {},
   "outputs": [],
   "source": [
    "quarter_templates = ['heads/black/quarter.png', 'heads/black/solid-note.png']\n",
    "half_templates = ['heads/half/half-note-space.png', 'heads/half/half-space.png', 'heads/half/half.png']\n",
    "whole_templates = ['heads/whole/whole-note-space.png', 'heads/whole/whole-space.png', 'heads/whole/whole.png']\n",
    "\n",
    "templates = {\n",
    "    'quarters': [cv2.imread(temp_path, 0) for temp_path in quarter_templates],\n",
    "    'halfs': [cv2.imread(temp_path, 0) for temp_path in half_templates],\n",
    "    'wholes': [cv2.imread(temp_path, 0) for temp_path in whole_templates]\n",
    "}"
   ]
  },
  {
   "cell_type": "code",
   "execution_count": null,
   "metadata": {},
   "outputs": [],
   "source": [
    "label_map = {\n",
    "    0:{\n",
    "        0: 'N'\n",
    "    },\n",
    "    1:{\n",
    "        0:'b2',\n",
    "        1:'a2'\n",
    "    },\n",
    "    2:{\n",
    "        0:'g2',\n",
    "        1:'f2'\n",
    "    },\n",
    "    3:{\n",
    "        0:'e2',\n",
    "        1:'d2'\n",
    "    },\n",
    "    4:{\n",
    "        0:'c2',\n",
    "        1:'b1'\n",
    "    },\n",
    "    5:{\n",
    "        0:'a1',\n",
    "        1:'g1'\n",
    "    },\n",
    "    6:{\n",
    "        0:'f1',\n",
    "        1:'e1'\n",
    "    },\n",
    "    7:{\n",
    "        0:'d1',\n",
    "        1:'c1'\n",
    "    }\n",
    "}"
   ]
  },
  {
   "cell_type": "code",
   "execution_count": null,
   "metadata": {},
   "outputs": [],
   "source": [
    "# img = io.imread('testcases/test-set-scanned/test-cases/02.PNG')\n",
    "\n",
    "original = img.copy()\n",
    "gray = get_gray(img)\n",
    "bin_img = get_thresholded(gray, threshold_otsu(gray))\n",
    "show_images([gray, bin_img], ['Gray', 'Binary'])"
   ]
  },
  {
   "source": [
    "segmenter = Segmenter(bin_img)\n",
    "imgs_with_staff = segmenter.regions_with_staff\n",
    "imgs_without_staff = segmenter.regions_without_staff\n",
    "\n",
    "for i, img in enumerate(imgs_without_staff):\n",
    "    show_images([img, imgs_with_staff[i]])"
   ],
   "cell_type": "code",
   "metadata": {},
   "execution_count": null,
   "outputs": []
  },
  {
   "cell_type": "code",
   "execution_count": null,
   "metadata": {
    "tags": []
   },
   "outputs": [],
   "source": [
    "imgs_spacing = []\n",
    "imgs_rows = []\n",
    "for i, img in enumerate(imgs_with_staff):\n",
    "    spacing, rows = coordinator(img)\n",
    "    imgs_rows.append(rows)\n",
    "    imgs_spacing.append(spacing)"
   ]
  },
  {
   "cell_type": "code",
   "execution_count": null,
   "metadata": {},
   "outputs": [],
   "source": [
    "def estim(c):\n",
    "    margin = 1+(spacing/4)\n",
    "    for index,line in enumerate (rows):\n",
    "        if c >= line - margin and c <= line + margin:\n",
    "            return index+1, 0\n",
    "        elif c >= line + margin and c <= line + 3*margin:\n",
    "            return index+1, 1\n",
    "    return 0 , 0 "
   ]
  },
  {
   "cell_type": "code",
   "execution_count": null,
   "metadata": {},
   "outputs": [],
   "source": [
    "def draw_staff(img,row_positions):\n",
    "    image = np.copy(img)\n",
    "    for x in range (len(row_positions)):\n",
    "        image[int(row_positions[x]),:] = 0\n",
    "    return image\n",
    "\n",
    "for i, img in enumerate(imgs_without_staff):\n",
    "    new_img = draw_staff(img,imgs_rows[i])\n",
    "    new_img = otsu(new_img)\n",
    "    show_images([img,new_img], ['Binary','new'])  "
   ]
  },
  {
   "cell_type": "code",
   "execution_count": null,
   "metadata": {},
   "outputs": [],
   "source": [
    "for i, img in enumerate(imgs_without_staff):\n",
    "    all_labels = []\n",
    "    detected = np.copy(img)\n",
    "    for template in templates:\n",
    "        img = np.array(255*img).astype(np.uint8)\n",
    "        boxes = match(img, templates[template], 50, 150, 0.7)\n",
    "        boxes = remove_repeated_matches([j for i in boxes for j in i], 0.5)\n",
    "\n",
    "        box = Box(0, 0, img.shape[1], img.shape[0])\n",
    "        notes = [Note(r, \"4,8, 16, 32\", box, [], []) for r in boxes]\n",
    "        for idx, r in enumerate(boxes):\n",
    "            r.draw(detected, (0, 0, 255), 2)\n",
    "            line_idx, p = estim(int(r.y+r.h))\n",
    "            label = label_map[line_idx][p]\n",
    "            all_labels.append((r, label))\n",
    "            cv2.putText(detected, label, (r.x-5, r.y-10), cv2.FONT_HERSHEY_SIMPLEX, 0.9, (36,255,12), 2)\n",
    "        \n",
    "    cv2.imwrite(f'detected{i}.png', detected)\n",
    "\n",
    "    all_labels = sorted(all_labels, key=lambda b : (b[0].x, b[0].y))\n",
    "    res = []\n",
    "    i = 0\n",
    "    while i < len(all_labels):\n",
    "        label = all_labels[i]\n",
    "        cur_res = [label[1]]\n",
    "        h = label[0].h\n",
    "        if i+1 < len(all_labels):\n",
    "            dist = np.abs(all_labels[i+1][0].y - label[0].y)\n",
    "            while i+1 < len(all_labels) and np.isclose([dist], [h], atol=7*h).any() and np.isclose([label[0].x], [all_labels[i+1][0].x], atol=1.25*label[0].w).any():\n",
    "                cur_res.append(all_labels[i+1][1])\n",
    "                i += 1\n",
    "                label = all_labels[i]\n",
    "                h = label[0].h\n",
    "                dist = np.abs(all_labels[i+1][0].y - label[0].y)\n",
    "        i += 1\n",
    "        res.append(cur_res)\n",
    "    \n",
    "    print(res)"
   ]
  },
  {
   "cell_type": "code",
   "execution_count": null,
   "metadata": {},
   "outputs": [],
   "source": [
    "for i, img in enumerate(imgs_without_staff):\n",
    "    primitives = get_connected_components(img)\n",
    "    for j, prim in enumerate(primitives):\n",
    "        io.imsave(f'testresult/{i}_{j}.png', (255*(1 - prim)).astype(np.uint8))\n",
    "        show_images([prim])"
   ]
  }
 ]
}