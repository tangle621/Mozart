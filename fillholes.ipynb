{
 "metadata": {
  "language_info": {
   "codemirror_mode": {
    "name": "ipython",
    "version": 3
   },
   "file_extension": ".py",
   "mimetype": "text/x-python",
   "name": "python",
   "nbconvert_exporter": "python",
   "pygments_lexer": "ipython3",
   "version": "3.7.9-final"
  },
  "orig_nbformat": 2,
  "kernelspec": {
   "name": "dev",
   "display_name": "Dev",
   "language": "python"
  }
 },
 "nbformat": 4,
 "nbformat_minor": 2,
 "cells": [
  {
   "cell_type": "code",
   "execution_count": 6,
   "metadata": {},
   "outputs": [],
   "source": [
    "from commonfunctions import *\n",
    "from glob import  glob\n",
    "import os\n",
    "from PIL import Image"
   ]
  },
  {
   "cell_type": "code",
   "execution_count": 7,
   "metadata": {},
   "outputs": [],
   "source": [
    "def inv(img_path, save_path):\n",
    "    img = io.imread(img_path)\n",
    "    img = rgb2gray(img)\n",
    "    bw = (255*(1 - get_thresholded(img, threshold_otsu(img)))).astype(np.uint8)\n",
    "    io.imsave(save_path, bw)"
   ]
  },
  {
   "cell_type": "code",
   "execution_count": 8,
   "metadata": {},
   "outputs": [
    {
     "output_type": "execute_result",
     "data": {
      "text/plain": [
       "['train_data/data/t44_hw',\n",
       " 'train_data/data/8b_n',\n",
       " 'train_data/data/t4',\n",
       " 'train_data/data/t2',\n",
       " 'train_data/data/1',\n",
       " 'train_data/data/chord',\n",
       " 'train_data/data/#',\n",
       " 'train_data/data/b_hw',\n",
       " 'train_data/data/t24_hw',\n",
       " 'train_data/data/32',\n",
       " 'train_data/data/dot',\n",
       " 'train_data/data/8_hw',\n",
       " 'train_data/data/#_hw',\n",
       " 'train_data/data/2',\n",
       " 'train_data/data/8',\n",
       " 'train_data/data/2_hw',\n",
       " 'train_data/data/4_hw',\n",
       " 'train_data/data/b',\n",
       " 'train_data/data/cross',\n",
       " 'train_data/data/4',\n",
       " 'train_data/data/dot_hw',\n",
       " 'train_data/data/32b_r',\n",
       " 'train_data/data/t24',\n",
       " 'train_data/data/16b_n',\n",
       " 'train_data/data/o',\n",
       " 'train_data/data/1_hw',\n",
       " 'train_data/data/16_hw',\n",
       " 'train_data/data/16',\n",
       " 'train_data/data/16b_r',\n",
       " 'train_data/data/t44',\n",
       " 'train_data/data/clef',\n",
       " 'train_data/data/8b_r',\n",
       " 'train_data/data/32b_n',\n",
       " 'train_data/data/o_hw']"
      ]
     },
     "metadata": {},
     "execution_count": 8
    }
   ],
   "source": [
    "glob(f'train_data/data/*')"
   ]
  },
  {
   "cell_type": "code",
   "execution_count": 9,
   "metadata": {
    "tags": []
   },
   "outputs": [
    {
     "output_type": "stream",
     "name": "stdout",
     "text": [
      "['train_data/data/t44_hw', 'train_data/data/8b_n', 'train_data/data/t4', 'train_data/data/t2', 'train_data/data/1', 'train_data/data/chord', 'train_data/data/#', 'train_data/data/b_hw', 'train_data/data/t24_hw', 'train_data/data/32', 'train_data/data/dot', 'train_data/data/8_hw', 'train_data/data/#_hw', 'train_data/data/2', 'train_data/data/8', 'train_data/data/2_hw', 'train_data/data/4_hw', 'train_data/data/b', 'train_data/data/cross', 'train_data/data/4', 'train_data/data/dot_hw', 'train_data/data/32b_r', 'train_data/data/t24', 'train_data/data/16b_n', 'train_data/data/o', 'train_data/data/1_hw', 'train_data/data/16_hw', 'train_data/data/16', 'train_data/data/16b_r', 'train_data/data/t44', 'train_data/data/clef', 'train_data/data/8b_r', 'train_data/data/32b_n', 'train_data/data/o_hw']\n"
     ]
    }
   ],
   "source": [
    "dir_name = 'Eight'\n",
    "dirs = [path for path in glob(f'train_data/data/*')]\n",
    "dir_names = [path.split('/')[2] for path in glob(f'train_data/data/*')]\n",
    "print(dirs)"
   ]
  },
  {
   "cell_type": "code",
   "execution_count": 10,
   "metadata": {},
   "outputs": [],
   "source": [
    "for i, directory in enumerate(dirs):\n",
    "    imgs = glob(f'{directory}/*.png')\n",
    "    for j, img in enumerate(imgs):\n",
    "        os.rename(img, f'{directory}/{dir_names[i]}_{j}.png')"
   ]
  }
 ]
}