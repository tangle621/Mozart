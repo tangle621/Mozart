{
 "metadata": {
  "language_info": {
   "codemirror_mode": {
    "name": "ipython",
    "version": 3
   },
   "file_extension": ".py",
   "mimetype": "text/x-python",
   "name": "python",
   "nbconvert_exporter": "python",
   "pygments_lexer": "ipython3",
   "version": "3.7.9-final"
  },
  "orig_nbformat": 2,
  "kernelspec": {
   "name": "dev",
   "display_name": "Dev",
   "language": "python"
  }
 },
 "nbformat": 4,
 "nbformat_minor": 2,
 "cells": [
  {
   "cell_type": "code",
   "execution_count": 134,
   "metadata": {},
   "outputs": [],
   "source": [
    "from commonfunctions import *\n",
    "from glob import  glob\n",
    "import os\n",
    "from PIL import Image"
   ]
  },
  {
   "cell_type": "code",
   "execution_count": 135,
   "metadata": {},
   "outputs": [],
   "source": [
    "def inv(img_path, save_path):\n",
    "    img = io.imread(img_path)\n",
    "    img = rgb2gray(img)\n",
    "    bw = (255*(1 - get_thresholded(img, threshold_otsu(img)))).astype(np.uint8)\n",
    "    io.imsave(save_path, bw)"
   ]
  },
  {
   "cell_type": "code",
   "execution_count": 136,
   "metadata": {
    "tags": []
   },
   "outputs": [],
   "source": [
    "dir_name = 'Eight'\n",
    "imgs_path = glob(f'train_data/data/natural/nat/*.bmp')\n",
    "imgs_path = sorted(imgs_path)\n",
    "res_path = f'train_data/data/#/sh'\n",
    "imgs_names = [img.split('/')[3].split('.')[0] for img in imgs_path]"
   ]
  },
  {
   "cell_type": "code",
   "execution_count": 137,
   "metadata": {},
   "outputs": [],
   "source": [
    "for i, img in enumerate(imgs_path):\n",
    "    # im = Image.open(img)\n",
    "    # im.save(f'train_data/data/cross/{imgs_names[i]}.png')\n",
    "    os.remove(img)"
   ]
  },
  {
   "cell_type": "code",
   "execution_count": 138,
   "metadata": {},
   "outputs": [],
   "source": [
    "# os.mkdir(res_path)\n",
    "# for i, img in enumerate(imgs_path):\n",
    "#     inv(img, res_path+'/'+imgs_names[i])"
   ]
  }
 ]
}